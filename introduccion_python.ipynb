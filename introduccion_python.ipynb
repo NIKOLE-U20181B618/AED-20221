{
  "nbformat": 4,
  "nbformat_minor": 0,
  "metadata": {
    "colab": {
      "provenance": [],
      "authorship_tag": "ABX9TyOKZojN6dlTR6/7pk/9Nuq+",
      "include_colab_link": true
    },
    "kernelspec": {
      "name": "python3",
      "display_name": "Python 3"
    },
    "language_info": {
      "name": "python"
    }
  },
  "cells": [
    {
      "cell_type": "markdown",
      "metadata": {
        "id": "view-in-github",
        "colab_type": "text"
      },
      "source": [
        "<a href=\"https://colab.research.google.com/github/NIKOLE-U20181B618/AED-20221/blob/main/introduccion_python.ipynb\" target=\"_parent\"><img src=\"https://colab.research.google.com/assets/colab-badge.svg\" alt=\"Open In Colab\"/></a>"
      ]
    },
    {
      "cell_type": "markdown",
      "source": [
        "\n",
        "# Datos en Python\n",
        "1.   int\n",
        "2.   float\n",
        "3.   string\n",
        "4.   bool\n",
        "\n"
      ],
      "metadata": {
        "id": "UnuXDaNMCZ2h"
      }
    },
    {
      "cell_type": "code",
      "execution_count": null,
      "metadata": {
        "id": "l1ErAIhZBok2",
        "colab": {
          "base_uri": "https://localhost:8080/"
        },
        "outputId": "7b7deb87-4382-4e9d-c536-949ea3c15d20"
      },
      "outputs": [
        {
          "output_type": "stream",
          "name": "stdout",
          "text": [
            "199\n",
            "199 <class 'int'>\n",
            "200.065 <class 'float'>\n",
            "Hola, Mundo <class 'str'>\n",
            "c <class 'str'>\n",
            "True <class 'bool'>\n"
          ]
        }
      ],
      "source": [
        "### Imprimiendo un numero entero\n",
        "print(199)\n",
        "\n",
        "### Imprimiendo un numero entero y su tipo de dato -> int\n",
        "print(199, type(199))\n",
        "\n",
        "### Imprimiendo un numero entero y su tipo de dato -> float\n",
        "print(200.065, type(200.065))\n",
        "\n",
        "### Imprimiendo un numero entero y su tipo de dato -> str (string)\n",
        "print(\"Hola, Mundo\", type(\"Hola, Mundo\"))\n",
        "### Imprimiendo un numero entero y su tipo de dato -> str (string)\n",
        "print('c', type('c'))\n",
        "\n",
        "### Imprimiendo un numero entero y su tipo de dato -> bool\n",
        "print(True, type(True))\n"
      ]
    },
    {
      "cell_type": "markdown",
      "source": [
        "# Expresiones"
      ],
      "metadata": {
        "id": "4x7qzMJpA3K3"
      }
    },
    {
      "cell_type": "code",
      "source": [
        "10 + 5 * 2"
      ],
      "metadata": {
        "colab": {
          "base_uri": "https://localhost:8080/"
        },
        "id": "sd7MhBBCA43C",
        "outputId": "304e0a44-8103-4227-ce9b-63b127d0b5bd"
      },
      "execution_count": 58,
      "outputs": [
        {
          "output_type": "execute_result",
          "data": {
            "text/plain": [
              "20"
            ]
          },
          "metadata": {},
          "execution_count": 58
        }
      ]
    },
    {
      "cell_type": "code",
      "source": [
        "7 / 3"
      ],
      "metadata": {
        "id": "R_fbdB4RA81e"
      },
      "execution_count": null,
      "outputs": []
    },
    {
      "cell_type": "code",
      "source": [
        "7 // 3"
      ],
      "metadata": {
        "id": "6XdTqXn2A-Nm"
      },
      "execution_count": null,
      "outputs": []
    },
    {
      "cell_type": "code",
      "source": [
        "7 % 3"
      ],
      "metadata": {
        "id": "1eWa4dUoBA4R"
      },
      "execution_count": null,
      "outputs": []
    },
    {
      "cell_type": "code",
      "source": [
        "3 ** 3"
      ],
      "metadata": {
        "colab": {
          "base_uri": "https://localhost:8080/"
        },
        "id": "YVHwDUjgBCBO",
        "outputId": "22481eeb-e677-4858-e022-cb3e4871a5db"
      },
      "execution_count": 59,
      "outputs": [
        {
          "output_type": "execute_result",
          "data": {
            "text/plain": [
              "27"
            ]
          },
          "metadata": {},
          "execution_count": 59
        }
      ]
    },
    {
      "cell_type": "markdown",
      "source": [
        "# Asignación múltiple\n",
        "\n",
        "\n",
        "*   Imprimir más de 1 variable\n",
        "*   Switch variables\n",
        "\n",
        "\n"
      ],
      "metadata": {
        "id": "_8IUEgLUoKaL"
      }
    },
    {
      "cell_type": "code",
      "source": [
        "a = 10\n",
        "b =\"Hola\"\n",
        "\n",
        "# Imprimir más de 1 variable en un solo print\n",
        "print(a, type(a),b, type(b))\n",
        "\n",
        "# Swicth de valores entre dos variables\n",
        "a,b = b, a\n",
        "\n",
        "# Imprimir más de 1 variable en un solo print\n",
        "print(a, type(a),b, type(b))"
      ],
      "metadata": {
        "colab": {
          "base_uri": "https://localhost:8080/"
        },
        "id": "leJK2VzcoMxr",
        "outputId": "77238b83-6bcc-43da-84a7-c462f7ac4468"
      },
      "execution_count": null,
      "outputs": [
        {
          "output_type": "stream",
          "name": "stdout",
          "text": [
            "10 <class 'int'> Hola <class 'str'>\n",
            "Hola <class 'str'> 10 <class 'int'>\n"
          ]
        }
      ]
    },
    {
      "cell_type": "markdown",
      "source": [
        "# Funciones"
      ],
      "metadata": {
        "id": "Z2h3SrETozZI"
      }
    },
    {
      "cell_type": "code",
      "source": [
        "def funcion(a,b,c):\n",
        "  print(a)\n",
        "  print(b,c)\n",
        "  print(\"FIN\")\n",
        "\n",
        "def sumar(a,b):\n",
        "  return a+b"
      ],
      "metadata": {
        "id": "dxtj-Q1apNtg"
      },
      "execution_count": null,
      "outputs": []
    },
    {
      "cell_type": "code",
      "source": [
        "funcion(5, 6, \"xd\")\n",
        "print(sumar(5,8))"
      ],
      "metadata": {
        "colab": {
          "base_uri": "https://localhost:8080/"
        },
        "id": "J507ZiwVpXww",
        "outputId": "5993169c-3a65-4dab-ce1f-4841b042c971"
      },
      "execution_count": null,
      "outputs": [
        {
          "output_type": "stream",
          "name": "stdout",
          "text": [
            "5\n",
            "6 xd\n",
            "FIN\n",
            "13\n"
          ]
        }
      ]
    },
    {
      "cell_type": "markdown",
      "source": [
        "# Estructuras de control!"
      ],
      "metadata": {
        "id": "vUu2B15j_y2t"
      }
    },
    {
      "cell_type": "markdown",
      "source": [
        "Condicionales"
      ],
      "metadata": {
        "id": "5kcRSCHh_1VW"
      }
    },
    {
      "cell_type": "code",
      "source": [
        "a = 5\n",
        "if a < 2:\n",
        "    print(\"menor que 2\")\n",
        "    print(\":)\")\n",
        "elif a < 4:\n",
        "    print(\"menor que 4\")\n",
        "    print(\":|\")\n",
        "elif a < 6:\n",
        "    print(\"menor que 6\")\n",
        "    print(\":O\")\n",
        "else:\n",
        "    print(\"No esperaba esto\")\n",
        "    print(\":(\")\n",
        "\n",
        "print(\"Salimos!\")"
      ],
      "metadata": {
        "colab": {
          "base_uri": "https://localhost:8080/"
        },
        "id": "xS9CN04__3eH",
        "outputId": "95ba8b48-504a-4d18-c57c-e574f990a236"
      },
      "execution_count": 52,
      "outputs": [
        {
          "output_type": "stream",
          "name": "stdout",
          "text": [
            "menor que 6\n",
            ":O\n",
            "Salimos!\n"
          ]
        }
      ]
    },
    {
      "cell_type": "markdown",
      "source": [
        "# Lists"
      ],
      "metadata": {
        "id": "zYwFlx-QFbyQ"
      }
    },
    {
      "cell_type": "code",
      "source": [
        "a = [1, 2, 3, 4, 5, 6, 7, 8, 9, 10]\n",
        "print(a, type(a))\n",
        "print(a[0])\n",
        "print(a[1])\n",
        "print(a[2])\n",
        "n = len(a)\n",
        "print(n)"
      ],
      "metadata": {
        "colab": {
          "base_uri": "https://localhost:8080/"
        },
        "id": "P8U1rp5EFgvZ",
        "outputId": "7d7c48e2-31ef-4a85-d2eb-d56c9966525c"
      },
      "execution_count": 12,
      "outputs": [
        {
          "output_type": "stream",
          "name": "stdout",
          "text": [
            "[1, 2, 3, 4, 5, 6, 7, 8, 9, 10] <class 'list'>\n",
            "1\n",
            "2\n",
            "3\n",
            "10\n"
          ]
        }
      ]
    },
    {
      "cell_type": "markdown",
      "source": [
        "\n",
        "Operaciones con listas"
      ],
      "metadata": {
        "id": "Oio88SMp61ho"
      }
    },
    {
      "cell_type": "code",
      "source": [
        "l1=[1,2,3]\n",
        "l1.append(6)\n",
        "l1.append(300)\n",
        "l1.append(9)\n",
        "l1.append(100)\n",
        "print(l1, len(l1))"
      ],
      "metadata": {
        "colab": {
          "base_uri": "https://localhost:8080/"
        },
        "id": "63Dtyt28_Rc4",
        "outputId": "5b3982db-0a6b-4253-8a38-20abc67f10dc"
      },
      "execution_count": 48,
      "outputs": [
        {
          "output_type": "stream",
          "name": "stdout",
          "text": [
            "[1, 2, 3, 6, 300, 9, 100] 7\n"
          ]
        }
      ]
    },
    {
      "cell_type": "code",
      "source": [
        "a.append(20)\n",
        "print(a)\n",
        "a.remove(7) #busca el 7\n",
        "print(a)\n",
        "\n",
        "del a[4]  #elimina en la posicion\n",
        "print(a)\n",
        "\n",
        "a.pop()   #elimina la ultima posicion\n",
        "print(a)\n",
        "\n",
        "a.insert(5, 30)  #inserta en la posicion\n",
        "print(a)"
      ],
      "metadata": {
        "colab": {
          "base_uri": "https://localhost:8080/"
        },
        "id": "Te0_aMAN6FpB",
        "outputId": "62a609f4-4c47-4a2a-bb89-0916b39c9363"
      },
      "execution_count": 13,
      "outputs": [
        {
          "output_type": "stream",
          "name": "stdout",
          "text": [
            "[1, 2, 3, 4, 5, 6, 7, 8, 9, 10, 20]\n",
            "[1, 2, 3, 4, 5, 6, 8, 9, 10, 20]\n",
            "[1, 2, 3, 4, 6, 8, 9, 10, 20]\n",
            "[1, 2, 3, 4, 6, 8, 9, 10]\n",
            "[1, 2, 3, 4, 6, 30, 8, 9, 10]\n"
          ]
        }
      ]
    },
    {
      "cell_type": "markdown",
      "source": [
        "Slices"
      ],
      "metadata": {
        "id": "y2tnU1Dy64D4"
      }
    },
    {
      "cell_type": "code",
      "source": [
        "c = [1, 2, 3, 4, 6, 30, 8, 9, 10, 100, 200, 300]\n",
        "print(c)\n",
        "print(c[3:8])\n",
        "print(c[:5])\n",
        "print(c[4:])\n",
        "print(c[:])"
      ],
      "metadata": {
        "colab": {
          "base_uri": "https://localhost:8080/"
        },
        "id": "t6mRts_V66Ml",
        "outputId": "e5cff482-664e-4ee5-9278-ff764119c3df"
      },
      "execution_count": 17,
      "outputs": [
        {
          "output_type": "stream",
          "name": "stdout",
          "text": [
            "[1, 2, 3, 4, 6, 30, 8, 9, 10, 100, 200, 300]\n",
            "[4, 6, 30, 8, 9]\n",
            "[1, 2, 3, 4, 6]\n",
            "[6, 30, 8, 9, 10, 100, 200, 300]\n",
            "[1, 2, 3, 4, 6, 30, 8, 9, 10, 100, 200, 300]\n"
          ]
        }
      ]
    },
    {
      "cell_type": "code",
      "source": [
        "print(c[::1])\n",
        "print(c[::2])\n",
        "print(c[::-1])\n",
        "print(c[::-2])"
      ],
      "metadata": {
        "colab": {
          "base_uri": "https://localhost:8080/"
        },
        "id": "_gyRm9fE7Yrf",
        "outputId": "f767bc8f-5217-4647-aef5-ec43777c3157"
      },
      "execution_count": 18,
      "outputs": [
        {
          "output_type": "stream",
          "name": "stdout",
          "text": [
            "[1, 2, 3, 4, 6, 30, 8, 9, 10, 100, 200, 300]\n",
            "[1, 3, 6, 8, 10, 200]\n",
            "[300, 200, 100, 10, 9, 8, 30, 6, 4, 3, 2, 1]\n",
            "[300, 100, 9, 30, 4, 2]\n"
          ]
        }
      ]
    },
    {
      "cell_type": "markdown",
      "source": [
        "# Tuplas"
      ],
      "metadata": {
        "id": "F-6y2Lb9-MqZ"
      }
    },
    {
      "cell_type": "code",
      "source": [
        "t1 = (1, 2, 3, 4, 5, 6, 7, 8, 9, 10)\n",
        "t2 = (10, 20.3, \"Hola\", True)\n",
        "# siguiente dará ERROR\n",
        "#  t1[2] = 100 \n",
        "print(t1)"
      ],
      "metadata": {
        "colab": {
          "base_uri": "https://localhost:8080/"
        },
        "id": "RkzOR-Yj-SC1",
        "outputId": "d0b9c691-a939-40ea-d045-cca3cc111ce6"
      },
      "execution_count": 41,
      "outputs": [
        {
          "output_type": "stream",
          "name": "stdout",
          "text": [
            "(1, 2, 3, 4, 5, 6, 7, 8, 9, 10)\n"
          ]
        }
      ]
    },
    {
      "cell_type": "code",
      "source": [
        "print(t2[0])\n",
        "print(t2[1])\n",
        "print(t2[2])\n",
        "print(t2[3])\n",
        "print(t1[-1])\n",
        "print(t1[-2])\n",
        "print(t1[-10])"
      ],
      "metadata": {
        "colab": {
          "base_uri": "https://localhost:8080/"
        },
        "id": "2Au_BjFM-paY",
        "outputId": "55133cd2-79a4-436b-87e5-16613b12f467"
      },
      "execution_count": 43,
      "outputs": [
        {
          "output_type": "stream",
          "name": "stdout",
          "text": [
            "10\n",
            "20.3\n",
            "Hola\n",
            "True\n",
            "10\n",
            "9\n",
            "1\n"
          ]
        }
      ]
    },
    {
      "cell_type": "markdown",
      "source": [
        "# Sets (conjuntos)"
      ],
      "metadata": {
        "id": "-l6I65WQ-zzH"
      }
    },
    {
      "cell_type": "code",
      "source": [
        "s1 = {1, 2, 3, 4, 5, 6, 7, 8, 9, 10}\n",
        "s2 = {100, 3.1416, \"pi\", False, None}\n",
        "print(s1)\n",
        "print(s2)\n",
        "# siguiente linea dará ERROR\n",
        "#print(s1[4])"
      ],
      "metadata": {
        "colab": {
          "base_uri": "https://localhost:8080/"
        },
        "id": "QI3mTBMa-1zv",
        "outputId": "eb3dcda7-b7b9-430f-e0b2-95b352fe2a29"
      },
      "execution_count": 45,
      "outputs": [
        {
          "output_type": "stream",
          "name": "stdout",
          "text": [
            "{1, 2, 3, 4, 5, 6, 7, 8, 9, 10}\n",
            "{False, None, 3.1416, 100, 'pi'}\n"
          ]
        }
      ]
    },
    {
      "cell_type": "code",
      "source": [
        "s1.add(6)\n",
        "s1.add(300)\n",
        "s1.add(9)\n",
        "s1.add(100)\n",
        "print(s1, len(s1))"
      ],
      "metadata": {
        "colab": {
          "base_uri": "https://localhost:8080/"
        },
        "id": "8yYNph3h_GYR",
        "outputId": "08f30704-0563-4e6a-881a-3bd91e7e50b8"
      },
      "execution_count": 46,
      "outputs": [
        {
          "output_type": "stream",
          "name": "stdout",
          "text": [
            "{1, 2, 3, 4, 5, 6, 7, 8, 9, 10, 100, 300} 12\n"
          ]
        }
      ]
    },
    {
      "cell_type": "markdown",
      "source": [
        "# Diccionarios"
      ],
      "metadata": {
        "id": "X31uGQcZ_fiZ"
      }
    },
    {
      "cell_type": "code",
      "source": [
        "d1 = {\n",
        "    \"clave\": \"valor\", \n",
        "    \"nombre\": \"Luis Canaval\" }\n",
        "print(d1)"
      ],
      "metadata": {
        "colab": {
          "base_uri": "https://localhost:8080/"
        },
        "id": "uSY3CSH9_iWg",
        "outputId": "dcb561ce-7593-4f29-bd15-115683b72be2"
      },
      "execution_count": 49,
      "outputs": [
        {
          "output_type": "stream",
          "name": "stdout",
          "text": [
            "{'clave': 'valor', 'nombre': 'Luis Canaval'}\n"
          ]
        }
      ]
    },
    {
      "cell_type": "code",
      "source": [
        "d1[\"nombre\"]"
      ],
      "metadata": {
        "colab": {
          "base_uri": "https://localhost:8080/",
          "height": 36
        },
        "id": "U3C28WCL_n6x",
        "outputId": "6121cc55-d4b4-406b-b889-e97d58c0ed56"
      },
      "execution_count": 50,
      "outputs": [
        {
          "output_type": "execute_result",
          "data": {
            "text/plain": [
              "'Luis Canaval'"
            ],
            "application/vnd.google.colaboratory.intrinsic+json": {
              "type": "string"
            }
          },
          "metadata": {},
          "execution_count": 50
        }
      ]
    },
    {
      "cell_type": "code",
      "source": [
        "d1[\"pais\"] = \"Perú\"\n",
        "print(d1)"
      ],
      "metadata": {
        "colab": {
          "base_uri": "https://localhost:8080/"
        },
        "id": "SRuUtSUB_q3W",
        "outputId": "9331c27b-a8e5-4aa0-d764-a82189bdd98d"
      },
      "execution_count": 51,
      "outputs": [
        {
          "output_type": "stream",
          "name": "stdout",
          "text": [
            "{'clave': 'valor', 'nombre': 'Luis Canaval', 'pais': 'Perú'}\n"
          ]
        }
      ]
    },
    {
      "cell_type": "markdown",
      "source": [
        "# For"
      ],
      "metadata": {
        "id": "uDPhyBlT7kC3"
      }
    },
    {
      "cell_type": "code",
      "source": [
        "for i in range(5):\n",
        "  print(i)"
      ],
      "metadata": {
        "colab": {
          "base_uri": "https://localhost:8080/"
        },
        "id": "MnpFGNVh7nyH",
        "outputId": "fea8d08e-194a-40d1-b584-a14033746d5d"
      },
      "execution_count": 20,
      "outputs": [
        {
          "output_type": "stream",
          "name": "stdout",
          "text": [
            "0\n",
            "1\n",
            "2\n",
            "3\n",
            "4\n"
          ]
        }
      ]
    },
    {
      "cell_type": "code",
      "source": [
        "for i in range(2, 5):\n",
        "  print(i)"
      ],
      "metadata": {
        "colab": {
          "base_uri": "https://localhost:8080/"
        },
        "id": "4R5BiL227up6",
        "outputId": "28a19dc0-b33a-4ff9-e92a-0501f8187889"
      },
      "execution_count": 21,
      "outputs": [
        {
          "output_type": "stream",
          "name": "stdout",
          "text": [
            "2\n",
            "3\n",
            "4\n"
          ]
        }
      ]
    },
    {
      "cell_type": "code",
      "source": [
        "for i in range(4, 100, 30):\n",
        "  print(i)"
      ],
      "metadata": {
        "colab": {
          "base_uri": "https://localhost:8080/"
        },
        "id": "gV2DqQ6i7y9g",
        "outputId": "0c90eabb-dbe7-44ed-ff8e-e002685b9dfb"
      },
      "execution_count": 24,
      "outputs": [
        {
          "output_type": "stream",
          "name": "stdout",
          "text": [
            "4\n",
            "34\n",
            "64\n",
            "94\n"
          ]
        }
      ]
    },
    {
      "cell_type": "code",
      "source": [
        "c = [1,2,3]\n",
        "for e in c:\n",
        "  print(e)"
      ],
      "metadata": {
        "colab": {
          "base_uri": "https://localhost:8080/"
        },
        "id": "ANEEUur5780v",
        "outputId": "e517d1ca-da68-463d-dc9d-0142f02e74b2"
      },
      "execution_count": 26,
      "outputs": [
        {
          "output_type": "stream",
          "name": "stdout",
          "text": [
            "1\n",
            "2\n",
            "3\n"
          ]
        }
      ]
    },
    {
      "cell_type": "code",
      "source": [
        "for i in range(len(c)):\n",
        "  print(i, c[i])"
      ],
      "metadata": {
        "colab": {
          "base_uri": "https://localhost:8080/"
        },
        "id": "2fWGKnen8DfP",
        "outputId": "99a82d26-f009-42dc-f240-c93cf687c02a"
      },
      "execution_count": 27,
      "outputs": [
        {
          "output_type": "stream",
          "name": "stdout",
          "text": [
            "0 1\n",
            "1 2\n",
            "2 3\n"
          ]
        }
      ]
    },
    {
      "cell_type": "code",
      "source": [
        "c = [1, 2, 3, 4, 6, 30, 8, 9, 10, 100, 200, 300]\n",
        "print(c[2:8])\n",
        "for i in range(4, 8):\n",
        "  print(i, c[i])"
      ],
      "metadata": {
        "colab": {
          "base_uri": "https://localhost:8080/"
        },
        "id": "2g8P47kp8Hih",
        "outputId": "6da4107c-fda5-4a34-9d32-210630c485ef"
      },
      "execution_count": 28,
      "outputs": [
        {
          "output_type": "stream",
          "name": "stdout",
          "text": [
            "[3, 4, 6, 30, 8, 9]\n",
            "4 6\n",
            "5 30\n",
            "6 8\n",
            "7 9\n"
          ]
        }
      ]
    },
    {
      "cell_type": "markdown",
      "source": [
        "# Algunos ejercicios"
      ],
      "metadata": {
        "id": "xiF_pwHe8c8w"
      }
    },
    {
      "cell_type": "markdown",
      "source": [
        "**DIBUJAR UN ROMBO**\n",
        "\n",
        "\n"
      ],
      "metadata": {
        "id": "SH7Xjy2q8_Iw"
      }
    },
    {
      "cell_type": "code",
      "source": [
        "\"\"\"\n",
        "n = 4\n",
        "      *\n",
        "    *   *\n",
        "  *       *\n",
        "*           *\n",
        "  *       *\n",
        "    *   *\n",
        "      *\n",
        "\"\"\"\n",
        "\n",
        "def rombus(n):\n",
        "  print(\"  \"*n, \"*\") #multiplica el numero de \"espacios\" x n\n",
        "  for i in range(1, n):\n",
        "    print(\"  \"*(n-i), \"*\", \"  \"*((i-1)*2), \" *\")\n",
        "  for i in range(n-2, 0, -1):\n",
        "    print(\"  \"*(n-i), \"*\", \"  \"*((i-1)*2), \" *\")\n",
        "  print(\"  \"*n, \"*\")\n",
        "\n",
        "rombus(10)"
      ],
      "metadata": {
        "id": "VQq-J78v8h4z"
      },
      "execution_count": null,
      "outputs": []
    },
    {
      "cell_type": "markdown",
      "source": [
        "**ordenar alfabeticamente una lista de caracteres**"
      ],
      "metadata": {
        "id": "pRhSUre29GVf"
      }
    },
    {
      "cell_type": "code",
      "source": [
        "def sortchars(chars): #parametro una lista \n",
        "  chars2 = [] #LISTAVACIA\n",
        "  for ch in chars: \n",
        "    chars2.append(ch)\n",
        "  chars2.sort()  #ordenar alfabeticamente\n",
        "  return \"\".join(chars2)\n",
        "\n",
        "sortchars(\"habia una vez un barco chiquitito\")"
      ],
      "metadata": {
        "id": "7RMmbT-m8oKw"
      },
      "execution_count": null,
      "outputs": []
    },
    {
      "cell_type": "markdown",
      "source": [
        "manejo de if else elif\n"
      ],
      "metadata": {
        "id": "kd53WAAg9xXZ"
      }
    },
    {
      "cell_type": "code",
      "source": [
        "#import pdb\n",
        "\n",
        "def balanced(text):\n",
        "  stack = []\n",
        "  #pdb.set_trace()\n",
        "  for ch in text:\n",
        "    if ch in \"([{\": # aqui in es como un ==\n",
        "      stack.append(ch)\n",
        "    else:\n",
        "      if len(stack) == 0:\n",
        "        return \"NO\"\n",
        "      elif ch == \")\" and stack[-1] == \"(\" or \\\n",
        "       ch == \"]\" and stack[-1] == \"[\" or \\\n",
        "       ch == \"}\" and stack[-1] == \"{\":\n",
        "        stack.pop()\n",
        "      else:\n",
        "        return \"NO\"\n",
        "  return \"YES\" if len(stack) == 0 else \"NO\"\n",
        "\n",
        "print(balanced(\"{[()]}\"))\n",
        "print(balanced(\"{[(])}\"))\n",
        "print(balanced(\"{{[[(())]]}}\"))"
      ],
      "metadata": {
        "id": "TgEd23x49k4n"
      },
      "execution_count": null,
      "outputs": []
    },
    {
      "cell_type": "markdown",
      "source": [
        "# Algunos algoritmos"
      ],
      "metadata": {
        "id": "znb8Zq0lAOee"
      }
    },
    {
      "cell_type": "code",
      "source": [
        "def selectionSort(a):\n",
        "  n = len(a)\n",
        "  for i in range(n - 1):\n",
        "    minIdx = i\n",
        "    for j in range(i + 1, n):\n",
        "      if a[j] < a[minIdx]:\n",
        "        minIdx = j\n",
        "    if i != minIdx:\n",
        "      a[i], a[minIdx] = a[minIdx], a[i]"
      ],
      "metadata": {
        "id": "J8KmN0h_AQ7e"
      },
      "execution_count": 53,
      "outputs": []
    },
    {
      "cell_type": "code",
      "source": [
        "import random\n",
        "\n",
        "lst = [i % 4 for i in range(8)]\n",
        "print(lst)\n",
        "random.shuffle(lst) #lo desordena\n",
        "print(lst)\n",
        "selectionSort(lst)\n",
        "print(lst)"
      ],
      "metadata": {
        "colab": {
          "base_uri": "https://localhost:8080/"
        },
        "id": "LWvrDCIJASy3",
        "outputId": "ea5a24fe-7e72-448b-e595-88dbf8d752cb"
      },
      "execution_count": 63,
      "outputs": [
        {
          "output_type": "stream",
          "name": "stdout",
          "text": [
            "[0, 1, 2, 3, 0, 1, 2, 3]\n",
            "[2, 3, 3, 0, 0, 1, 2, 1]\n"
          ]
        }
      ]
    }
  ]
}