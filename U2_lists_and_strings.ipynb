{
  "nbformat": 4,
  "nbformat_minor": 0,
  "metadata": {
    "colab": {
      "provenance": [],
      "authorship_tag": "ABX9TyPo4VNmF96qMzvzeNmHV9Hz",
      "include_colab_link": true
    },
    "kernelspec": {
      "name": "python3",
      "display_name": "Python 3"
    },
    "language_info": {
      "name": "python"
    }
  },
  "cells": [
    {
      "cell_type": "markdown",
      "metadata": {
        "id": "view-in-github",
        "colab_type": "text"
      },
      "source": [
        "<a href=\"https://colab.research.google.com/github/NIKOLE-U20181B618/AED-20221/blob/main/U2_lists_and_strings.ipynb\" target=\"_parent\"><img src=\"https://colab.research.google.com/assets/colab-badge.svg\" alt=\"Open In Colab\"/></a>"
      ]
    },
    {
      "cell_type": "code",
      "execution_count": 2,
      "metadata": {
        "colab": {
          "base_uri": "https://localhost:8080/"
        },
        "id": "G6x6qbzwOfbN",
        "outputId": "6ffbb1ee-61bf-4a42-935b-dffa92a9d742"
      },
      "outputs": [
        {
          "output_type": "stream",
          "name": "stdout",
          "text": [
            "dos\n",
            "['uno', 'dos', 'tres', 'cuatro']\n"
          ]
        }
      ],
      "source": [
        "abc =\"uno dos tres cuatro\"\n",
        "var= abc.split()\n",
        "print(var[1])\n",
        "print(var)"
      ]
    },
    {
      "cell_type": "code",
      "source": [
        "abc =\"uno;dos;tres;cuatro\"\n",
        "var= abc.split(\";\")\n",
        "print(var)"
      ],
      "metadata": {
        "colab": {
          "base_uri": "https://localhost:8080/"
        },
        "id": "rb1A9CbCO-2d",
        "outputId": "b350e838-eb39-4539-ff3b-106b58de7549"
      },
      "execution_count": 3,
      "outputs": [
        {
          "output_type": "stream",
          "name": "stdout",
          "text": [
            "['uno', 'dos', 'tres', 'cuatro']\n"
          ]
        }
      ]
    },
    {
      "cell_type": "code",
      "source": [
        "%%file mbox-short.txt\n",
        "tu puta mare\n",
        "jodete imbecil\n",
        "feo de mierda\n",
        "tu vete a la verga"
      ],
      "metadata": {
        "colab": {
          "base_uri": "https://localhost:8080/"
        },
        "id": "4qGXCD52PPpd",
        "outputId": "ed6a62ce-b571-465d-ea9c-1cda0cc2161c"
      },
      "execution_count": 6,
      "outputs": [
        {
          "output_type": "stream",
          "name": "stdout",
          "text": [
            "Overwriting mbox-short.txt\n"
          ]
        }
      ]
    },
    {
      "cell_type": "code",
      "source": [
        "fhand = open(\"mbox-short.txt\")\n",
        "for line in fhand:\n",
        "  line=line.rstrip()\n",
        "  if not line.startswith(\"tu\"): continue\n",
        "  words= line.split()\n",
        "  print(words[1])"
      ],
      "metadata": {
        "colab": {
          "base_uri": "https://localhost:8080/"
        },
        "id": "l6Ck5OxsPnHc",
        "outputId": "fb203c0f-497a-443e-d9de-edffdd3a7578"
      },
      "execution_count": 7,
      "outputs": [
        {
          "output_type": "stream",
          "name": "stdout",
          "text": [
            "puta\n",
            "vete\n"
          ]
        }
      ]
    }
  ]
}